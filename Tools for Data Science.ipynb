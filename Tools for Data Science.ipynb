{
 "cells": [
  {
   "cell_type": "markdown",
   "id": "372ade54-5db2-485d-a259-464ce2d6b3ff",
   "metadata": {},
   "source": [
    "Final Assignment Jupyter Notebook"
   ]
  },
  {
   "cell_type": "markdown",
   "id": "fbd46920-31bf-4010-bdee-b60d4318a159",
   "metadata": {},
   "source": [
    "Introduction:\n",
    "\n",
    "This is my Jupyter Notebook for the final assignment in the Coursera course \"Tools for Data Science.\""
   ]
  },
  {
   "cell_type": "markdown",
   "id": "313eb0b1-bed0-4ace-bc29-3871f4f014ed",
   "metadata": {},
   "source": [
    "List of Data Science Languages:\n",
    "\n",
    "Python\n",
    "\n",
    "R\n",
    "\n",
    "SQL\n",
    "\n",
    "Julia\n",
    "\n",
    "Scala\n",
    "\n",
    "Java\n",
    "\n",
    "C++"
   ]
  },
  {
   "cell_type": "markdown",
   "id": "127ce48e-aadf-44d2-921b-1a811b7333d9",
   "metadata": {},
   "source": [
    "List of Data Science Libraries:\n",
    "\n",
    "Pandas\n",
    "\n",
    "NumPy\n",
    "\n",
    "Matplotlib\n",
    "\n",
    "Seaborn\n",
    "\n",
    "Scikit-learn\n",
    "\n",
    "Keras\n",
    "\n",
    "TensorFlow\n",
    "\n",
    "PyTorch\n",
    "\n",
    "Vegas\n",
    "\n",
    "BigDL\n",
    "\n",
    "ggplot2"
   ]
  },
  {
   "cell_type": "markdown",
   "id": "0d6ccfd3-2fbb-4c2b-bb6e-fd7eebbb752e",
   "metadata": {},
   "source": [
    "Table of Data Science Tools:\n",
    "\n",
    "| **Category**            | **Tool/Library**          | **Description**                                                                 |\n",
    "|--------------------------|---------------------------|---------------------------------------------------------------------------------|\n",
    "| **Programming Languages** | Python, R                | Popular languages for data analysis and machine learning.                      |\n",
    "| **Data Manipulation**    | Pandas, dplyr            | Tools for cleaning and manipulating structured data.                           |\n",
    "| **Data Visualization**   | Matplotlib, Seaborn, ggplot2 | Libraries for creating static, animated, and interactive visualizations.       |\n",
    "| **Machine Learning**     | Scikit-learn, TensorFlow, PyTorch | Libraries for implementing machine learning models.                           |\n",
    "| **Big Data**             | Apache Spark, Hadoop     | Frameworks for processing and analyzing large-scale data.                      |\n",
    "| **Databases**            | SQL, MongoDB, PostgreSQL | Tools for querying and managing data in relational and non-relational databases. |\n",
    "| **Deep Learning**        | Keras, PyTorch           | Libraries for building and training deep neural networks.                      |\n",
    "| **Statistical Analysis** | SciPy, statsmodels       | Libraries for performing statistical tests and models.                         |\n",
    "| **Data Cleaning**        | OpenRefine, Pandas       | Tools for cleaning and preparing raw data.                                     |\n",
    "| **Version Control**      | Git, GitHub              | Tools for tracking changes in code and collaborating with others.              |\n",
    "| **Web Scraping**         | BeautifulSoup, Scrapy    | Libraries for extracting data from websites.                                   |\n",
    "| **Natural Language Processing (NLP)** | NLTK, spaCy          | Libraries for text processing and language analysis.                           |\n",
    "| **Cloud Platforms**      | AWS, Google Cloud, Azure | Platforms for scalable computing and data storage.                             |\n",
    "| **Data Annotation**      | Labelbox, Prodigy        | Tools for creating labeled datasets for supervised learning.                   |\n",
    "| **Experimentation**      | MLflow, DVC              | Tools for managing machine learning experiments and pipelines.                 |\n",
    "| **APIs and Integration** | Flask, FastAPI           | Frameworks for building APIs to integrate machine learning models.             |\n",
    "| **Time Series Analysis** | Prophet, tslearn         | Libraries for modeling and forecasting time series data.                       |\n",
    "| **Geospatial Analysis**  | GeoPandas, QGIS          | Tools for working with geospatial data.                                        |\n",
    "\n"
   ]
  },
  {
   "cell_type": "markdown",
   "id": "fd64da92-7fda-4b01-afe0-1d5108b200ae",
   "metadata": {},
   "source": [
    "Arithmetic Expression Examples:\n",
    "\n",
    "1 + 1 = 2\n",
    "\n",
    "3 - 2 = 1\n",
    "\n",
    "2 * 3 = 6\n",
    "\n",
    "8 / 4 = 2"
   ]
  },
  {
   "cell_type": "code",
   "execution_count": 1,
   "id": "873a77fe-6a71-44f2-a053-516114d2fc50",
   "metadata": {},
   "outputs": [],
   "source": [
    "#function to multiply numbers\n",
    "def multiply(number1, number2):\n",
    "    return number1 * number2\n",
    "\n",
    "#function to add numbers\n",
    "def add(number1, number2):\n",
    "    return number1 + number2"
   ]
  },
  {
   "cell_type": "code",
   "execution_count": 2,
   "id": "e013a4c7-8474-424a-8976-00c0a80f0851",
   "metadata": {},
   "outputs": [],
   "source": [
    "#function to convert minutes to hours\n",
    "def minutesToHours(minutes):\n",
    "    return minutes / 60"
   ]
  },
  {
   "cell_type": "markdown",
   "id": "64326554-9b40-4309-84d2-8c99d9a1e388",
   "metadata": {},
   "source": [
    "Objectives:\n",
    "\n",
    "Create a Jupyter Notebook with markdown and code cells\n",
    "\n",
    "List examples of languages, libraries and tools used in Data Science\n",
    "\n",
    "Share your Jupyter Notebook publicly on GitHub\n",
    "\n",
    "Evaluate notebooks submitted by your peers using the provided rubric\n",
    "\n",
    "Demonstrate proficiency in Data Science toolkit knowledge"
   ]
  },
  {
   "cell_type": "markdown",
   "id": "ee3f6c76-8e3e-4f1f-9387-28299e58ad90",
   "metadata": {},
   "source": [
    "Author: Peverel Shipley"
   ]
  }
 ],
 "metadata": {
  "kernelspec": {
   "display_name": "Python 3 (ipykernel)",
   "language": "python",
   "name": "python3"
  },
  "language_info": {
   "codemirror_mode": {
    "name": "ipython",
    "version": 3
   },
   "file_extension": ".py",
   "mimetype": "text/x-python",
   "name": "python",
   "nbconvert_exporter": "python",
   "pygments_lexer": "ipython3",
   "version": "3.11.9"
  }
 },
 "nbformat": 4,
 "nbformat_minor": 5
}
