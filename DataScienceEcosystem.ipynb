{
 "cells": [
  {
   "cell_type": "markdown",
   "id": "372ade54-5db2-485d-a259-464ce2d6b3ff",
   "metadata": {},
   "source": [
    "# Data Science Tools and Ecosystem"
   ]
  },
  {
   "cell_type": "markdown",
   "id": "fbd46920-31bf-4010-bdee-b60d4318a159",
   "metadata": {},
   "source": [
    "In this notebook, Data Science Tools and Ecosystem are summarized."
   ]
  },
  {
   "cell_type": "markdown",
   "id": "313eb0b1-bed0-4ace-bc29-3871f4f014ed",
   "metadata": {},
   "source": [
    "List of Data Science Languages:\n",
    "\n",
    "1. Python\n",
    "\n",
    "2. R\n",
    "\n",
    "3. SQL\n",
    "\n",
    "4. Julia\n",
    "\n",
    "5. Scala\n",
    "\n",
    "6. Java\n",
    "\n",
    "7. C++"
   ]
  },
  {
   "cell_type": "markdown",
   "id": "127ce48e-aadf-44d2-921b-1a811b7333d9",
   "metadata": {},
   "source": [
    "List of Data Science Libraries:\n",
    "\n",
    "1. Pandas\n",
    "\n",
    "2. NumPy\n",
    "\n",
    "3. Matplotlib\n",
    "\n",
    "4. Seaborn\n",
    "\n",
    "5. Scikit-learn\n",
    "\n",
    "6. Keras\n",
    "\n",
    "7. TensorFlow\n",
    "\n",
    "8. PyTorch\n",
    "\n",
    "9. Vegas\n",
    "\n",
    "10. BigDL\n",
    "\n",
    "11. ggplot2"
   ]
  },
  {
   "cell_type": "markdown",
   "id": "0d6ccfd3-2fbb-4c2b-bb6e-fd7eebbb752e",
   "metadata": {},
   "source": [
    "Table of Data Science Tools:\n",
    "\n",
    "| Data Science Tools       |\n",
    "|--------------------------|\n",
    "| Jupyter Notebook         |\n",
    "| RStudio                  |\n",
    "| VS Code                  |\n",
    "\n"
   ]
  },
  {
   "cell_type": "markdown",
   "id": "fd64da92-7fda-4b01-afe0-1d5108b200ae",
   "metadata": {},
   "source": [
    "### The following is an example of arithmetic expressions, multiplication and addition, in Python."
   ]
  },
  {
   "cell_type": "code",
   "execution_count": 1,
   "id": "873a77fe-6a71-44f2-a053-516114d2fc50",
   "metadata": {},
   "outputs": [
    {
     "data": {
      "text/plain": [
       "17"
      ]
     },
     "execution_count": 1,
     "metadata": {},
     "output_type": "execute_result"
    }
   ],
   "source": [
    "# This is a simple arithmetic expression to multiply then add integers\n",
    "(3*4) + 5"
   ]
  },
  {
   "cell_type": "code",
   "execution_count": 2,
   "id": "e013a4c7-8474-424a-8976-00c0a80f0851",
   "metadata": {},
   "outputs": [
    {
     "name": "stdout",
     "output_type": "stream",
     "text": [
      "3.3333333333333335 hours\n"
     ]
    }
   ],
   "source": [
    "# This will convert 200 minutes to hours by dividing by 60\n",
    "minutes = 200\n",
    "hours = minutes / 60\n",
    "print(hours, \"hours\")"
   ]
  },
  {
   "cell_type": "markdown",
   "id": "64326554-9b40-4309-84d2-8c99d9a1e388",
   "metadata": {},
   "source": [
    "Here is a list of objectives for the final assignment.\n",
    "\n",
    "Objectives:\n",
    "\n",
    "- Create a Jupyter Notebook with markdown and code cells\n",
    "\n",
    "- List examples of languages, libraries and tools used in Data Science\n",
    "\n",
    "- Share your Jupyter Notebook publicly on GitHub\n",
    "\n",
    "- Evaluate notebooks submitted by your peers using the provided rubric\n",
    "\n",
    "- Demonstrate proficiency in Data Science toolkit knowledge"
   ]
  },
  {
   "cell_type": "markdown",
   "id": "ee3f6c76-8e3e-4f1f-9387-28299e58ad90",
   "metadata": {},
   "source": [
    "## Author\n",
    "\n",
    "Peverel Shipley"
   ]
  }
 ],
 "metadata": {
  "kernelspec": {
   "display_name": "Python 3 (ipykernel)",
   "language": "python",
   "name": "python3"
  },
  "language_info": {
   "codemirror_mode": {
    "name": "ipython",
    "version": 3
   },
   "file_extension": ".py",
   "mimetype": "text/x-python",
   "name": "python",
   "nbconvert_exporter": "python",
   "pygments_lexer": "ipython3",
   "version": "3.11.9"
  }
 },
 "nbformat": 4,
 "nbformat_minor": 5
}
